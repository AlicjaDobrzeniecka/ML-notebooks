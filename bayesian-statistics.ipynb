{
 "cells": [
  {
   "cell_type": "markdown",
   "metadata": {},
   "source": [
    "# Introduction to bayesian statistics\n",
    "sources:\n",
    "- https://www.youtube.com/watch?v=Pahyv9i_X2k\n",
    "- https://towardsdatascience.com/frequentist-vs-bayesian-approaches-in-machine-learning-86ece21e820e\n",
    "- https://machinelearningmastery.com/bayes-theorem-for-machine-learning/"
   ]
  },
  {
   "cell_type": "markdown",
   "metadata": {},
   "source": [
    "# Theory"
   ]
  },
  {
   "cell_type": "markdown",
   "metadata": {},
   "source": [
    "## frequentist vs bayesian statistics"
   ]
  },
  {
   "cell_type": "markdown",
   "metadata": {},
   "source": [
    "### frequentist statistics\n",
    "- focuses on the parameter (which is assumed to be fixed constant)\n",
    "- confidence intervals are read in terms of repeated sampling\n",
    "\n",
    "\n",
    "- Eg. in logistic regression the data is assumed to be sampled from Bernoulli distribution, and in linear regression the data is assumed to be sampled from Gaussian distribution\n",
    "\n",
    "- interpretation of interval: \" 95% of similar sized intervals from repeated samples of size \"n\" will contain \"θ\" \""
   ]
  },
  {
   "cell_type": "markdown",
   "metadata": {},
   "source": [
    "### bayesian statistics\n",
    "- focuses on subjective parameter (takes into account a priori predictions)\n",
    "- credible intervals read in terms of subjective uncertainty\n",
    "\n",
    "\n",
    "- the assumptions include a prior distribution of the hypotheses P(θ), and a likelihood of data P(Data|θ)\n",
    "\n",
    "- interpretation of interval: \"There is a 95% chance that θ exists within the interval.. \""
   ]
  },
  {
   "cell_type": "markdown",
   "metadata": {},
   "source": [
    "## Bayes theorem\n",
    "Posterior = Likelihood * Prior / Evidence"
   ]
  },
  {
   "cell_type": "code",
   "execution_count": 5,
   "metadata": {},
   "outputs": [
    {
     "data": {
      "image/png": "[encoded data removed]",
      "text/plain": [
       "<IPython.core.display.Image object>"
      ]
     },
     "execution_count": 5,
     "metadata": {
      "image/png": {
       "width": 900
      }
     },
     "output_type": "execute_result"
    }
   ],
   "source": [
    "from IPython.display import Image\n",
    "Image(filename=\"bayes-theorem.png\", width=900)"
   ]
  },
  {
   "cell_type": "markdown",
   "metadata": {},
   "source": [
    "### Review of probabilities\n",
    "- Bayes Theorem provides a principled way for calculating a conditional probability\n",
    "\n",
    "Probabilities:\n",
    "- Marginal Probability: The probability of an event irrespective of the outcomes of other random variables, e.g. P(A)\n",
    "- Joint Probability: Probability of two (or more) simultaneous events, e.g. P(A and B) or P(A, B)\n",
    "- Conditional Probability: Probability of one (or more) event given the occurrence of another event, e.g. P(A given B) or P(A | B)"
   ]
  },
  {
   "cell_type": "code",
   "execution_count": null,
   "metadata": {},
   "outputs": [],
   "source": []
  },
  {
   "cell_type": "code",
   "execution_count": null,
   "metadata": {},
   "outputs": [],
   "source": []
  },
  {
   "cell_type": "markdown",
   "metadata": {},
   "source": [
    "# Python code"
   ]
  },
  {
   "cell_type": "code",
   "execution_count": null,
   "metadata": {},
   "outputs": [],
   "source": []
  },
  {
   "cell_type": "code",
   "execution_count": null,
   "metadata": {},
   "outputs": [],
   "source": []
  }
 ],
 "metadata": {
  "kernelspec": {
   "display_name": "Python 3",
   "language": "python",
   "name": "python3"
  },
  "language_info": {
   "codemirror_mode": {
    "name": "ipython",
    "version": 3
   },
   "file_extension": ".py",
   "mimetype": "text/x-python",
   "name": "python",
   "nbconvert_exporter": "python",
   "pygments_lexer": "ipython3",
   "version": "3.7.10"
  },
  "toc": {
   "base_numbering": 1,
   "nav_menu": {},
   "number_sections": false,
   "sideBar": true,
   "skip_h1_title": false,
   "title_cell": "Table of Contents",
   "title_sidebar": "Contents",
   "toc_cell": false,
   "toc_position": {},
   "toc_section_display": true,
   "toc_window_display": false
  }
 },
 "nbformat": 4,
 "nbformat_minor": 4
}
